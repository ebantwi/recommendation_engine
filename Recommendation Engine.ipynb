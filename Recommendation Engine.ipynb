{
 "cells": [
  {
   "cell_type": "code",
   "execution_count": 0,
   "metadata": {
    "colab": {
     "base_uri": "https://localhost:8080/",
     "height": 339
    },
    "colab_type": "code",
    "executionInfo": {
     "elapsed": 13047,
     "status": "ok",
     "timestamp": 1572893321094,
     "user": {
      "displayName": "Rajeev Ratan",
      "photoUrl": "https://lh3.googleusercontent.com/a-/AAuE7mCGo6aIm0tOcd5EhqWlYb0rime9sBvHS9YMpx0D2w=s64",
      "userId": "08597265227091462140"
     },
     "user_tz": 0
    },
    "id": "oP7obkGAvyTO",
    "outputId": "04017e58-0cc4-404b-9b2a-a20dc44733de"
   },
   "outputs": [
    {
     "name": "stdout",
     "output_type": "stream",
     "text": [
      "Collecting lightfm\n",
      "\u001b[?25l  Downloading https://files.pythonhosted.org/packages/e9/8e/5485ac5a8616abe1c673d1e033e2f232b4319ab95424b42499fabff2257f/lightfm-1.15.tar.gz (302kB)\n",
      "\r",
      "\u001b[K     |█                               | 10kB 22.9MB/s eta 0:00:01\r",
      "\u001b[K     |██▏                             | 20kB 3.3MB/s eta 0:00:01\r",
      "\u001b[K     |███▎                            | 30kB 4.8MB/s eta 0:00:01\r",
      "\u001b[K     |████▍                           | 40kB 3.1MB/s eta 0:00:01\r",
      "\u001b[K     |█████▍                          | 51kB 3.9MB/s eta 0:00:01\r",
      "\u001b[K     |██████▌                         | 61kB 4.6MB/s eta 0:00:01\r",
      "\u001b[K     |███████▋                        | 71kB 5.3MB/s eta 0:00:01\r",
      "\u001b[K     |████████▊                       | 81kB 5.9MB/s eta 0:00:01\r",
      "\u001b[K     |█████████▊                      | 92kB 6.6MB/s eta 0:00:01\r",
      "\u001b[K     |██████████▉                     | 102kB 5.1MB/s eta 0:00:01\r",
      "\u001b[K     |████████████                    | 112kB 5.1MB/s eta 0:00:01\r",
      "\u001b[K     |█████████████                   | 122kB 5.1MB/s eta 0:00:01\r",
      "\u001b[K     |██████████████                  | 133kB 5.1MB/s eta 0:00:01\r",
      "\u001b[K     |███████████████▏                | 143kB 5.1MB/s eta 0:00:01\r",
      "\u001b[K     |████████████████▎               | 153kB 5.1MB/s eta 0:00:01\r",
      "\u001b[K     |█████████████████▍              | 163kB 5.1MB/s eta 0:00:01\r",
      "\u001b[K     |██████████████████▍             | 174kB 5.1MB/s eta 0:00:01\r",
      "\u001b[K     |███████████████████▌            | 184kB 5.1MB/s eta 0:00:01\r",
      "\u001b[K     |████████████████████▋           | 194kB 5.1MB/s eta 0:00:01\r",
      "\u001b[K     |█████████████████████▊          | 204kB 5.1MB/s eta 0:00:01\r",
      "\u001b[K     |██████████████████████▊         | 215kB 5.1MB/s eta 0:00:01\r",
      "\u001b[K     |███████████████████████▉        | 225kB 5.1MB/s eta 0:00:01\r",
      "\u001b[K     |█████████████████████████       | 235kB 5.1MB/s eta 0:00:01\r",
      "\u001b[K     |██████████████████████████      | 245kB 5.1MB/s eta 0:00:01\r",
      "\u001b[K     |███████████████████████████     | 256kB 5.1MB/s eta 0:00:01\r",
      "\u001b[K     |████████████████████████████▏   | 266kB 5.1MB/s eta 0:00:01\r",
      "\u001b[K     |█████████████████████████████▎  | 276kB 5.1MB/s eta 0:00:01\r",
      "\u001b[K     |██████████████████████████████▍ | 286kB 5.1MB/s eta 0:00:01\r",
      "\u001b[K     |███████████████████████████████▍| 296kB 5.1MB/s eta 0:00:01\r",
      "\u001b[K     |████████████████████████████████| 307kB 5.1MB/s \n",
      "\u001b[?25hRequirement already satisfied: numpy in /usr/local/lib/python3.6/dist-packages (from lightfm) (1.17.3)\n",
      "Requirement already satisfied: scipy>=0.17.0 in /usr/local/lib/python3.6/dist-packages (from lightfm) (1.3.1)\n",
      "Requirement already satisfied: requests in /usr/local/lib/python3.6/dist-packages (from lightfm) (2.21.0)\n",
      "Requirement already satisfied: urllib3<1.25,>=1.21.1 in /usr/local/lib/python3.6/dist-packages (from requests->lightfm) (1.24.3)\n",
      "Requirement already satisfied: idna<2.9,>=2.5 in /usr/local/lib/python3.6/dist-packages (from requests->lightfm) (2.8)\n",
      "Requirement already satisfied: certifi>=2017.4.17 in /usr/local/lib/python3.6/dist-packages (from requests->lightfm) (2019.9.11)\n",
      "Requirement already satisfied: chardet<3.1.0,>=3.0.2 in /usr/local/lib/python3.6/dist-packages (from requests->lightfm) (3.0.4)\n",
      "Building wheels for collected packages: lightfm\n",
      "  Building wheel for lightfm (setup.py) ... \u001b[?25l\u001b[?25hdone\n",
      "  Created wheel for lightfm: filename=lightfm-1.15-cp36-cp36m-linux_x86_64.whl size=707625 sha256=ae726a1ca1e739b8a7632d51900932bc7552d53bf11f51568d81dc362b3a6d50\n",
      "  Stored in directory: /root/.cache/pip/wheels/eb/bb/ac/188385a5da6627956be5d9663928483b36da576149ab5b8f79\n",
      "Successfully built lightfm\n",
      "Installing collected packages: lightfm\n",
      "Successfully installed lightfm-1.15\n"
     ]
    }
   ],
   "source": [
    "!pip install lightfm"
   ]
  },
  {
   "cell_type": "code",
   "execution_count": 0,
   "metadata": {
    "colab": {},
    "colab_type": "code",
    "id": "7A2Fptc1vy37"
   },
   "outputs": [],
   "source": [
    "import numpy as np\n",
    "from lightfm.datasets import fetch_movielens\n",
    "from lightfm import LightFM"
   ]
  },
  {
   "cell_type": "code",
   "execution_count": 0,
   "metadata": {
    "colab": {
     "base_uri": "https://localhost:8080/",
     "height": 106
    },
    "colab_type": "code",
    "executionInfo": {
     "elapsed": 1106,
     "status": "ok",
     "timestamp": 1572894308941,
     "user": {
      "displayName": "Rajeev Ratan",
      "photoUrl": "https://lh3.googleusercontent.com/a-/AAuE7mCGo6aIm0tOcd5EhqWlYb0rime9sBvHS9YMpx0D2w=s64",
      "userId": "08597265227091462140"
     },
     "user_tz": 0
    },
    "id": "8kEEE1vsv4Dp",
    "outputId": "b1a272e8-533f-4562-e6f6-e6cf0cd9f7aa"
   },
   "outputs": [
    {
     "name": "stdout",
     "output_type": "stream",
     "text": [
      "train <class 'scipy.sparse.coo.coo_matrix'> (943, 1682)\n",
      "test <class 'scipy.sparse.coo.coo_matrix'> (943, 1682)\n",
      "item_features <class 'scipy.sparse.csr.csr_matrix'> (1682, 1682)\n",
      "item_feature_labels <class 'numpy.ndarray'> (1682,)\n",
      "item_labels <class 'numpy.ndarray'> (1682,)\n"
     ]
    }
   ],
   "source": [
    "data = fetch_movielens(min_rating = 4.0)\n",
    "\n",
    "for key, value in data.items():\n",
    "    print(key, type(value), value.shape)"
   ]
  },
  {
   "cell_type": "code",
   "execution_count": 0,
   "metadata": {
    "colab": {
     "base_uri": "https://localhost:8080/",
     "height": 35
    },
    "colab_type": "code",
    "executionInfo": {
     "elapsed": 425,
     "status": "ok",
     "timestamp": 1572894177477,
     "user": {
      "displayName": "Rajeev Ratan",
      "photoUrl": "https://lh3.googleusercontent.com/a-/AAuE7mCGo6aIm0tOcd5EhqWlYb0rime9sBvHS9YMpx0D2w=s64",
      "userId": "08597265227091462140"
     },
     "user_tz": 0
    },
    "id": "slPJ4hn_yNOj",
    "outputId": "6935c4e1-d34d-45a4-9d16-91efe5214f10"
   },
   "outputs": [
    {
     "data": {
      "text/plain": [
       "scipy.sparse.coo.coo_matrix"
      ]
     },
     "execution_count": 28,
     "metadata": {
      "tags": []
     },
     "output_type": "execute_result"
    }
   ],
   "source": [
    "type(data['train'])"
   ]
  },
  {
   "cell_type": "code",
   "execution_count": 0,
   "metadata": {
    "colab": {
     "base_uri": "https://localhost:8080/",
     "height": 52
    },
    "colab_type": "code",
    "executionInfo": {
     "elapsed": 463,
     "status": "ok",
     "timestamp": 1572894363477,
     "user": {
      "displayName": "Rajeev Ratan",
      "photoUrl": "https://lh3.googleusercontent.com/a-/AAuE7mCGo6aIm0tOcd5EhqWlYb0rime9sBvHS9YMpx0D2w=s64",
      "userId": "08597265227091462140"
     },
     "user_tz": 0
    },
    "id": "tqBntxy9zHaF",
    "outputId": "15a7c2b9-af86-425a-d9a7-448585fd92ff"
   },
   "outputs": [
    {
     "name": "stdout",
     "output_type": "stream",
     "text": [
      "5\n",
      "0\n"
     ]
    }
   ],
   "source": [
    "# Each row represents a user, and each column an item. Entries are ratings from 1 to 5.\n",
    "m1 = data['train'].tocsr()\n",
    "\n",
    "print(m1[0,0])\n",
    "print(m1[0,1])"
   ]
  },
  {
   "cell_type": "code",
   "execution_count": 0,
   "metadata": {
    "colab": {
     "base_uri": "https://localhost:8080/",
     "height": 88
    },
    "colab_type": "code",
    "executionInfo": {
     "elapsed": 456,
     "status": "ok",
     "timestamp": 1572894439302,
     "user": {
      "displayName": "Rajeev Ratan",
      "photoUrl": "https://lh3.googleusercontent.com/a-/AAuE7mCGo6aIm0tOcd5EhqWlYb0rime9sBvHS9YMpx0D2w=s64",
      "userId": "08597265227091462140"
     },
     "user_tz": 0
    },
    "id": "L-ygYGxIv4O8",
    "outputId": "d81ba350-a802-4575-ca4b-3b8a4d7c20d9"
   },
   "outputs": [
    {
     "name": "stdout",
     "output_type": "stream",
     "text": [
      "<943x1682 sparse matrix of type '<class 'numpy.int32'>'\n",
      "\twith 49906 stored elements in COOrdinate format>\n",
      "<943x1682 sparse matrix of type '<class 'numpy.int32'>'\n",
      "\twith 5469 stored elements in COOrdinate format>\n"
     ]
    }
   ],
   "source": [
    "print(repr(data['train']))\n",
    "print(repr(data['test']))"
   ]
  },
  {
   "cell_type": "code",
   "execution_count": 0,
   "metadata": {
    "colab": {},
    "colab_type": "code",
    "id": "5_wQ4_WEv5VB"
   },
   "outputs": [],
   "source": [
    "model = LightFM(loss = 'warp')"
   ]
  },
  {
   "cell_type": "code",
   "execution_count": 0,
   "metadata": {
    "colab": {
     "base_uri": "https://localhost:8080/",
     "height": 35
    },
    "colab_type": "code",
    "executionInfo": {
     "elapsed": 886,
     "status": "ok",
     "timestamp": 1572894604220,
     "user": {
      "displayName": "Rajeev Ratan",
      "photoUrl": "https://lh3.googleusercontent.com/a-/AAuE7mCGo6aIm0tOcd5EhqWlYb0rime9sBvHS9YMpx0D2w=s64",
      "userId": "08597265227091462140"
     },
     "user_tz": 0
    },
    "id": "pJV2VOCav9zS",
    "outputId": "e4656d26-abf7-4bdc-c75e-f33fb779dbdd"
   },
   "outputs": [
    {
     "data": {
      "text/plain": [
       "<lightfm.lightfm.LightFM at 0x7f39439ff6a0>"
      ]
     },
     "execution_count": 43,
     "metadata": {
      "tags": []
     },
     "output_type": "execute_result"
    }
   ],
   "source": [
    "train = data['train']\n",
    "test = data['test']\n",
    "\n",
    "model.fit(train, epochs=10)"
   ]
  },
  {
   "cell_type": "code",
   "execution_count": 0,
   "metadata": {
    "colab": {
     "base_uri": "https://localhost:8080/",
     "height": 52
    },
    "colab_type": "code",
    "executionInfo": {
     "elapsed": 989,
     "status": "ok",
     "timestamp": 1572894612094,
     "user": {
      "displayName": "Rajeev Ratan",
      "photoUrl": "https://lh3.googleusercontent.com/a-/AAuE7mCGo6aIm0tOcd5EhqWlYb0rime9sBvHS9YMpx0D2w=s64",
      "userId": "08597265227091462140"
     },
     "user_tz": 0
    },
    "id": "DcD9wDSzzbCQ",
    "outputId": "1c776ea0-44e9-4080-da34-854e96feb584"
   },
   "outputs": [
    {
     "name": "stdout",
     "output_type": "stream",
     "text": [
      "Precision: train 0.49, test 0.08.\n",
      "AUC: train 0.94, test 0.91.\n"
     ]
    }
   ],
   "source": [
    "from lightfm.evaluation import precision_at_k\n",
    "from lightfm.evaluation import auc_score\n",
    "\n",
    "train_precision = precision_at_k(model, train, k=10).mean()\n",
    "test_precision = precision_at_k(model, test, k=10).mean()\n",
    "\n",
    "train_auc = auc_score(model, train).mean()\n",
    "test_auc = auc_score(model, test).mean()\n",
    "\n",
    "print('Precision: train %.2f, test %.2f.' % (train_precision, test_precision))\n",
    "print('AUC: train %.2f, test %.2f.' % (train_auc, test_auc))"
   ]
  },
  {
   "cell_type": "code",
   "execution_count": 0,
   "metadata": {
    "colab": {},
    "colab_type": "code",
    "id": "uvC-B4rIv_Ka"
   },
   "outputs": [],
   "source": [
    "# Function credit: function adapted from Arun Mathew Kurian\n",
    "# https://towardsdatascience.com/how-to-build-a-movie-recommender-system-in-python-using-lightfm-8fa49d7cbe3b\n",
    "def sample_recommendation(model, data, user_ids):\n",
    "    n_users, n_items = data['train'].shape\n",
    "    for user_id in user_ids:\n",
    "        known_positives = data['item_labels'][data['train'].tocsr()[user_id].indices]\n",
    "        \n",
    "        scores = model.predict(user_id, np.arange(n_items))\n",
    "\n",
    "        top_items = data['item_labels'][np.argsort(-scores)]\n",
    "\n",
    "        print(\"User %s\" % user_id)\n",
    "        print(\"Known positives:\")\n",
    "        \n",
    "        for x in known_positives[:3]:\n",
    "            print(\"%s\" % x)\n",
    "        \n",
    "        print(\"Recommended:\")\n",
    "        for x in top_items[:3]:\n",
    "            print(\"%s\" % x)"
   ]
  },
  {
   "cell_type": "code",
   "execution_count": 0,
   "metadata": {
    "colab": {
     "base_uri": "https://localhost:8080/",
     "height": 497
    },
    "colab_type": "code",
    "executionInfo": {
     "elapsed": 529,
     "status": "ok",
     "timestamp": 1572894660515,
     "user": {
      "displayName": "Rajeev Ratan",
      "photoUrl": "https://lh3.googleusercontent.com/a-/AAuE7mCGo6aIm0tOcd5EhqWlYb0rime9sBvHS9YMpx0D2w=s64",
      "userId": "08597265227091462140"
     },
     "user_tz": 0
    },
    "id": "IasvcwZ9wbUf",
    "outputId": "4257f80a-94b9-4faa-d773-bf522d51b380"
   },
   "outputs": [
    {
     "name": "stdout",
     "output_type": "stream",
     "text": [
      "User 6\n",
      "Known positives:\n",
      "Get Shorty (1995)\n",
      "Twelve Monkeys (1995)\n",
      "Babe (1995)\n",
      "Recommended:\n",
      "Raiders of the Lost Ark (1981)\n",
      "Princess Bride, The (1987)\n",
      "Empire Strikes Back, The (1980)\n",
      "User 125\n",
      "Known positives:\n",
      "Jungle2Jungle (1997)\n",
      "Kull the Conqueror (1997)\n",
      "Scream (1996)\n",
      "Recommended:\n",
      "Air Force One (1997)\n",
      "Game, The (1997)\n",
      "Kiss the Girls (1997)\n",
      "User 336\n",
      "Known positives:\n",
      "Mr. Holland's Opus (1995)\n",
      "Star Wars (1977)\n",
      "Ace Ventura: Pet Detective (1994)\n",
      "Recommended:\n",
      "Star Wars (1977)\n",
      "Independence Day (ID4) (1996)\n",
      "Raiders of the Lost Ark (1981)\n"
     ]
    }
   ],
   "source": [
    "# Testing on users 6, 125 and 336\n",
    "sample_recommendation(model, data, [6, 125, 336])"
   ]
  },
  {
   "cell_type": "code",
   "execution_count": null,
   "metadata": {},
   "outputs": [],
   "source": []
  },
  {
   "cell_type": "code",
   "execution_count": null,
   "metadata": {},
   "outputs": [],
   "source": []
  }
 ],
 "metadata": {
  "colab": {
   "name": "26.0 Case Study 14 - LightFM Recommendation Engine.ipynb",
   "provenance": []
  },
  "kernelspec": {
   "display_name": "Python 3 (ipykernel)",
   "language": "python",
   "name": "python3"
  },
  "language_info": {
   "codemirror_mode": {
    "name": "ipython",
    "version": 3
   },
   "file_extension": ".py",
   "mimetype": "text/x-python",
   "name": "python",
   "nbconvert_exporter": "python",
   "pygments_lexer": "ipython3",
   "version": "3.9.7"
  }
 },
 "nbformat": 4,
 "nbformat_minor": 1
}
