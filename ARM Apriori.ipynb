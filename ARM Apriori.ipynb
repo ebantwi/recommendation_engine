{
 "cells": [
  {
   "cell_type": "code",
   "execution_count": 2,
   "metadata": {
    "ExecuteTime": {
     "end_time": "2020-02-28T16:12:19.795766Z",
     "start_time": "2020-02-28T16:12:10.454176Z"
    }
   },
   "outputs": [],
   "source": [
    "import numpy as np \n",
    "import pandas as pd \n",
    "from mlxtend.frequent_patterns import apriori, association_rules #,fpgrowth \n"
   ]
  },
  {
   "cell_type": "code",
   "execution_count": 41,
   "metadata": {
    "ExecuteTime": {
     "end_time": "2020-02-28T16:12:22.019477Z",
     "start_time": "2020-02-28T16:12:21.685677Z"
    },
    "scrolled": true
   },
   "outputs": [
    {
     "data": {
      "text/html": [
       "<div>\n",
       "<style scoped>\n",
       "    .dataframe tbody tr th:only-of-type {\n",
       "        vertical-align: middle;\n",
       "    }\n",
       "\n",
       "    .dataframe tbody tr th {\n",
       "        vertical-align: top;\n",
       "    }\n",
       "\n",
       "    .dataframe thead th {\n",
       "        text-align: right;\n",
       "    }\n",
       "</style>\n",
       "<table border=\"1\" class=\"dataframe\">\n",
       "  <thead>\n",
       "    <tr style=\"text-align: right;\">\n",
       "      <th></th>\n",
       "      <th>CrashID</th>\n",
       "      <th>CrashMasterFile</th>\n",
       "      <th>Lat</th>\n",
       "      <th>Long</th>\n",
       "      <th>rtunique</th>\n",
       "      <th>CurvePresent</th>\n",
       "      <th>GradePresent</th>\n",
       "      <th>BadVisibility</th>\n",
       "      <th>BadWeather</th>\n",
       "      <th>WetRdway</th>\n",
       "      <th>...</th>\n",
       "      <th>WorkZone</th>\n",
       "      <th>Animal/Debris</th>\n",
       "      <th>SlipperySurf/WaterPooling</th>\n",
       "      <th>Impaired</th>\n",
       "      <th>Dstracted</th>\n",
       "      <th>Inattention</th>\n",
       "      <th>DrivingTooFast</th>\n",
       "      <th>RightOfWay</th>\n",
       "      <th>ImproperManeuver</th>\n",
       "      <th>FollowTooClose</th>\n",
       "    </tr>\n",
       "  </thead>\n",
       "  <tbody>\n",
       "    <tr>\n",
       "      <th>0</th>\n",
       "      <td>6363</td>\n",
       "      <td>72212705</td>\n",
       "      <td>38.20284</td>\n",
       "      <td>-85.68595</td>\n",
       "      <td>056-I-0264-010</td>\n",
       "      <td>1</td>\n",
       "      <td>0</td>\n",
       "      <td>1</td>\n",
       "      <td>0</td>\n",
       "      <td>0</td>\n",
       "      <td>...</td>\n",
       "      <td>0</td>\n",
       "      <td>0</td>\n",
       "      <td>0</td>\n",
       "      <td>0</td>\n",
       "      <td>0</td>\n",
       "      <td>0</td>\n",
       "      <td>0</td>\n",
       "      <td>0</td>\n",
       "      <td>0</td>\n",
       "      <td>0</td>\n",
       "    </tr>\n",
       "    <tr>\n",
       "      <th>1</th>\n",
       "      <td>6369</td>\n",
       "      <td>72212810</td>\n",
       "      <td>37.98286</td>\n",
       "      <td>-85.69970</td>\n",
       "      <td>015-I-0065-000</td>\n",
       "      <td>1</td>\n",
       "      <td>0</td>\n",
       "      <td>1</td>\n",
       "      <td>0</td>\n",
       "      <td>0</td>\n",
       "      <td>...</td>\n",
       "      <td>0</td>\n",
       "      <td>0</td>\n",
       "      <td>0</td>\n",
       "      <td>0</td>\n",
       "      <td>0</td>\n",
       "      <td>0</td>\n",
       "      <td>0</td>\n",
       "      <td>0</td>\n",
       "      <td>0</td>\n",
       "      <td>0</td>\n",
       "    </tr>\n",
       "  </tbody>\n",
       "</table>\n",
       "<p>2 rows × 26 columns</p>\n",
       "</div>"
      ],
      "text/plain": [
       "   CrashID  CrashMasterFile       Lat      Long        rtunique  CurvePresent  \\\n",
       "0     6363         72212705  38.20284 -85.68595  056-I-0264-010             1   \n",
       "1     6369         72212810  37.98286 -85.69970  015-I-0065-000             1   \n",
       "\n",
       "   GradePresent  BadVisibility  BadWeather  WetRdway  ...  WorkZone  \\\n",
       "0             0              1           0         0  ...         0   \n",
       "1             0              1           0         0  ...         0   \n",
       "\n",
       "   Animal/Debris  SlipperySurf/WaterPooling Impaired Dstracted  Inattention  \\\n",
       "0              0                          0        0         0            0   \n",
       "1              0                          0        0         0            0   \n",
       "\n",
       "   DrivingTooFast  RightOfWay  ImproperManeuver  FollowTooClose  \n",
       "0               0           0                 0               0  \n",
       "1               0           0                 0               0  \n",
       "\n",
       "[2 rows x 26 columns]"
      ]
     },
     "execution_count": 41,
     "metadata": {},
     "output_type": "execute_result"
    }
   ],
   "source": [
    "df = pd.read_csv('Z:/Waze/SPR20-598/Datasets/ARM/fullarmtable.csv')\n",
    "\n",
    "df.head(2)"
   ]
  },
  {
   "cell_type": "code",
   "execution_count": 42,
   "metadata": {
    "ExecuteTime": {
     "end_time": "2020-02-28T16:14:02.591090Z",
     "start_time": "2020-02-28T16:14:02.587076Z"
    }
   },
   "outputs": [
    {
     "data": {
      "text/plain": [
       "5768"
      ]
     },
     "execution_count": 42,
     "metadata": {},
     "output_type": "execute_result"
    }
   ],
   "source": [
    "len(df)"
   ]
  },
  {
   "cell_type": "code",
   "execution_count": 43,
   "metadata": {
    "ExecuteTime": {
     "end_time": "2020-02-28T16:13:19.632879Z",
     "start_time": "2020-02-28T16:13:19.624852Z"
    }
   },
   "outputs": [
    {
     "data": {
      "text/plain": [
       "16"
      ]
     },
     "execution_count": 43,
     "metadata": {},
     "output_type": "execute_result"
    }
   ],
   "source": [
    "len(df[df.P_N == 'Yes'])"
   ]
  },
  {
   "cell_type": "code",
   "execution_count": 44,
   "metadata": {
    "ExecuteTime": {
     "end_time": "2020-02-28T16:13:34.737065Z",
     "start_time": "2020-02-28T16:13:34.729037Z"
    }
   },
   "outputs": [
    {
     "data": {
      "text/plain": [
       "5676"
      ]
     },
     "execution_count": 44,
     "metadata": {},
     "output_type": "execute_result"
    }
   ],
   "source": [
    "len(df[df.P_N == 'No'])"
   ]
  },
  {
   "cell_type": "code",
   "execution_count": 45,
   "metadata": {
    "ExecuteTime": {
     "end_time": "2020-02-28T16:14:07.380792Z",
     "start_time": "2020-02-28T16:14:07.372780Z"
    }
   },
   "outputs": [],
   "source": [
    "df = df[df['Speed'].notnull()]\n",
    "\n",
    "df = df[df['Sphr'] == 'No']"
   ]
  },
  {
   "cell_type": "code",
   "execution_count": 46,
   "metadata": {
    "ExecuteTime": {
     "end_time": "2020-02-28T16:14:37.399468Z",
     "start_time": "2020-02-28T16:14:37.391442Z"
    }
   },
   "outputs": [],
   "source": [
    "df = df[df.P_N == 'No']"
   ]
  },
  {
   "cell_type": "code",
   "execution_count": 47,
   "metadata": {},
   "outputs": [
    {
     "data": {
      "text/html": [
       "<div>\n",
       "<style scoped>\n",
       "    .dataframe tbody tr th:only-of-type {\n",
       "        vertical-align: middle;\n",
       "    }\n",
       "\n",
       "    .dataframe tbody tr th {\n",
       "        vertical-align: top;\n",
       "    }\n",
       "\n",
       "    .dataframe thead th {\n",
       "        text-align: right;\n",
       "    }\n",
       "</style>\n",
       "<table border=\"1\" class=\"dataframe\">\n",
       "  <thead>\n",
       "    <tr style=\"text-align: right;\">\n",
       "      <th></th>\n",
       "      <th>CrashID</th>\n",
       "      <th>CrashMasterFile</th>\n",
       "      <th>Lat</th>\n",
       "      <th>Long</th>\n",
       "      <th>rtunique</th>\n",
       "      <th>CurvePresent</th>\n",
       "      <th>GradePresent</th>\n",
       "      <th>BadVisibility</th>\n",
       "      <th>BadWeather</th>\n",
       "      <th>WetRdway</th>\n",
       "      <th>...</th>\n",
       "      <th>WorkZone</th>\n",
       "      <th>Animal/Debris</th>\n",
       "      <th>SlipperySurf/WaterPooling</th>\n",
       "      <th>Impaired</th>\n",
       "      <th>Dstracted</th>\n",
       "      <th>Inattention</th>\n",
       "      <th>DrivingTooFast</th>\n",
       "      <th>RightOfWay</th>\n",
       "      <th>ImproperManeuver</th>\n",
       "      <th>FollowTooClose</th>\n",
       "    </tr>\n",
       "  </thead>\n",
       "  <tbody>\n",
       "    <tr>\n",
       "      <th>0</th>\n",
       "      <td>6363</td>\n",
       "      <td>72212705</td>\n",
       "      <td>38.20284</td>\n",
       "      <td>-85.68595</td>\n",
       "      <td>056-I-0264-010</td>\n",
       "      <td>1</td>\n",
       "      <td>0</td>\n",
       "      <td>1</td>\n",
       "      <td>0</td>\n",
       "      <td>0</td>\n",
       "      <td>...</td>\n",
       "      <td>0</td>\n",
       "      <td>0</td>\n",
       "      <td>0</td>\n",
       "      <td>0</td>\n",
       "      <td>0</td>\n",
       "      <td>0</td>\n",
       "      <td>0</td>\n",
       "      <td>0</td>\n",
       "      <td>0</td>\n",
       "      <td>0</td>\n",
       "    </tr>\n",
       "    <tr>\n",
       "      <th>1</th>\n",
       "      <td>6369</td>\n",
       "      <td>72212810</td>\n",
       "      <td>37.98286</td>\n",
       "      <td>-85.69970</td>\n",
       "      <td>015-I-0065-000</td>\n",
       "      <td>1</td>\n",
       "      <td>0</td>\n",
       "      <td>1</td>\n",
       "      <td>0</td>\n",
       "      <td>0</td>\n",
       "      <td>...</td>\n",
       "      <td>0</td>\n",
       "      <td>0</td>\n",
       "      <td>0</td>\n",
       "      <td>0</td>\n",
       "      <td>0</td>\n",
       "      <td>0</td>\n",
       "      <td>0</td>\n",
       "      <td>0</td>\n",
       "      <td>0</td>\n",
       "      <td>0</td>\n",
       "    </tr>\n",
       "  </tbody>\n",
       "</table>\n",
       "<p>2 rows × 26 columns</p>\n",
       "</div>"
      ],
      "text/plain": [
       "   CrashID  CrashMasterFile       Lat      Long        rtunique  CurvePresent  \\\n",
       "0     6363         72212705  38.20284 -85.68595  056-I-0264-010             1   \n",
       "1     6369         72212810  37.98286 -85.69970  015-I-0065-000             1   \n",
       "\n",
       "   GradePresent  BadVisibility  BadWeather  WetRdway  ...  WorkZone  \\\n",
       "0             0              1           0         0  ...         0   \n",
       "1             0              1           0         0  ...         0   \n",
       "\n",
       "   Animal/Debris  SlipperySurf/WaterPooling Impaired Dstracted  Inattention  \\\n",
       "0              0                          0        0         0            0   \n",
       "1              0                          0        0         0            0   \n",
       "\n",
       "   DrivingTooFast  RightOfWay  ImproperManeuver  FollowTooClose  \n",
       "0               0           0                 0               0  \n",
       "1               0           0                 0               0  \n",
       "\n",
       "[2 rows x 26 columns]"
      ]
     },
     "execution_count": 47,
     "metadata": {},
     "output_type": "execute_result"
    }
   ],
   "source": [
    "df.head(2)"
   ]
  },
  {
   "cell_type": "code",
   "execution_count": 48,
   "metadata": {
    "ExecuteTime": {
     "end_time": "2020-02-21T17:30:37.692464Z",
     "start_time": "2020-02-21T17:30:37.632608Z"
    }
   },
   "outputs": [],
   "source": [
    "data = df.iloc[:, 5:]\n",
    "data = data.drop(['Speed','Sphr','P_N'], axis = 1)"
   ]
  },
  {
   "cell_type": "code",
   "execution_count": 49,
   "metadata": {
    "ExecuteTime": {
     "end_time": "2020-02-21T17:30:37.770481Z",
     "start_time": "2020-02-21T17:30:37.692464Z"
    }
   },
   "outputs": [
    {
     "data": {
      "text/html": [
       "<div>\n",
       "<style scoped>\n",
       "    .dataframe tbody tr th:only-of-type {\n",
       "        vertical-align: middle;\n",
       "    }\n",
       "\n",
       "    .dataframe tbody tr th {\n",
       "        vertical-align: top;\n",
       "    }\n",
       "\n",
       "    .dataframe thead th {\n",
       "        text-align: right;\n",
       "    }\n",
       "</style>\n",
       "<table border=\"1\" class=\"dataframe\">\n",
       "  <thead>\n",
       "    <tr style=\"text-align: right;\">\n",
       "      <th></th>\n",
       "      <th>CurvePresent</th>\n",
       "      <th>GradePresent</th>\n",
       "      <th>BadVisibility</th>\n",
       "      <th>BadWeather</th>\n",
       "      <th>WetRdway</th>\n",
       "      <th>VOSh</th>\n",
       "      <th>Congestion</th>\n",
       "      <th>VehicleDefect</th>\n",
       "      <th>WorkZone</th>\n",
       "      <th>Animal/Debris</th>\n",
       "      <th>SlipperySurf/WaterPooling</th>\n",
       "      <th>Impaired</th>\n",
       "      <th>Dstracted</th>\n",
       "      <th>Inattention</th>\n",
       "      <th>DrivingTooFast</th>\n",
       "      <th>RightOfWay</th>\n",
       "      <th>ImproperManeuver</th>\n",
       "      <th>FollowTooClose</th>\n",
       "    </tr>\n",
       "  </thead>\n",
       "  <tbody>\n",
       "    <tr>\n",
       "      <th>0</th>\n",
       "      <td>1</td>\n",
       "      <td>0</td>\n",
       "      <td>1</td>\n",
       "      <td>0</td>\n",
       "      <td>0</td>\n",
       "      <td>0</td>\n",
       "      <td>0.0</td>\n",
       "      <td>0</td>\n",
       "      <td>0</td>\n",
       "      <td>0</td>\n",
       "      <td>0</td>\n",
       "      <td>0</td>\n",
       "      <td>0</td>\n",
       "      <td>0</td>\n",
       "      <td>0</td>\n",
       "      <td>0</td>\n",
       "      <td>0</td>\n",
       "      <td>0</td>\n",
       "    </tr>\n",
       "    <tr>\n",
       "      <th>1</th>\n",
       "      <td>1</td>\n",
       "      <td>0</td>\n",
       "      <td>1</td>\n",
       "      <td>0</td>\n",
       "      <td>0</td>\n",
       "      <td>0</td>\n",
       "      <td>0.0</td>\n",
       "      <td>0</td>\n",
       "      <td>0</td>\n",
       "      <td>0</td>\n",
       "      <td>0</td>\n",
       "      <td>0</td>\n",
       "      <td>0</td>\n",
       "      <td>0</td>\n",
       "      <td>0</td>\n",
       "      <td>0</td>\n",
       "      <td>0</td>\n",
       "      <td>0</td>\n",
       "    </tr>\n",
       "    <tr>\n",
       "      <th>2</th>\n",
       "      <td>1</td>\n",
       "      <td>1</td>\n",
       "      <td>0</td>\n",
       "      <td>0</td>\n",
       "      <td>1</td>\n",
       "      <td>1</td>\n",
       "      <td>0.0</td>\n",
       "      <td>0</td>\n",
       "      <td>0</td>\n",
       "      <td>0</td>\n",
       "      <td>1</td>\n",
       "      <td>0</td>\n",
       "      <td>0</td>\n",
       "      <td>0</td>\n",
       "      <td>0</td>\n",
       "      <td>0</td>\n",
       "      <td>1</td>\n",
       "      <td>0</td>\n",
       "    </tr>\n",
       "    <tr>\n",
       "      <th>3</th>\n",
       "      <td>0</td>\n",
       "      <td>0</td>\n",
       "      <td>0</td>\n",
       "      <td>0</td>\n",
       "      <td>0</td>\n",
       "      <td>0</td>\n",
       "      <td>0.0</td>\n",
       "      <td>0</td>\n",
       "      <td>0</td>\n",
       "      <td>0</td>\n",
       "      <td>0</td>\n",
       "      <td>0</td>\n",
       "      <td>0</td>\n",
       "      <td>1</td>\n",
       "      <td>0</td>\n",
       "      <td>0</td>\n",
       "      <td>1</td>\n",
       "      <td>0</td>\n",
       "    </tr>\n",
       "    <tr>\n",
       "      <th>4</th>\n",
       "      <td>0</td>\n",
       "      <td>0</td>\n",
       "      <td>0</td>\n",
       "      <td>0</td>\n",
       "      <td>0</td>\n",
       "      <td>1</td>\n",
       "      <td>0.0</td>\n",
       "      <td>0</td>\n",
       "      <td>0</td>\n",
       "      <td>1</td>\n",
       "      <td>0</td>\n",
       "      <td>0</td>\n",
       "      <td>0</td>\n",
       "      <td>0</td>\n",
       "      <td>0</td>\n",
       "      <td>0</td>\n",
       "      <td>0</td>\n",
       "      <td>0</td>\n",
       "    </tr>\n",
       "  </tbody>\n",
       "</table>\n",
       "</div>"
      ],
      "text/plain": [
       "   CurvePresent  GradePresent  BadVisibility  BadWeather  WetRdway  VOSh  \\\n",
       "0             1             0              1           0         0     0   \n",
       "1             1             0              1           0         0     0   \n",
       "2             1             1              0           0         1     1   \n",
       "3             0             0              0           0         0     0   \n",
       "4             0             0              0           0         0     1   \n",
       "\n",
       "   Congestion  VehicleDefect  WorkZone  Animal/Debris  \\\n",
       "0         0.0              0         0              0   \n",
       "1         0.0              0         0              0   \n",
       "2         0.0              0         0              0   \n",
       "3         0.0              0         0              0   \n",
       "4         0.0              0         0              1   \n",
       "\n",
       "   SlipperySurf/WaterPooling  Impaired  Dstracted  Inattention  \\\n",
       "0                          0         0          0            0   \n",
       "1                          0         0          0            0   \n",
       "2                          1         0          0            0   \n",
       "3                          0         0          0            1   \n",
       "4                          0         0          0            0   \n",
       "\n",
       "   DrivingTooFast  RightOfWay  ImproperManeuver  FollowTooClose  \n",
       "0               0           0                 0               0  \n",
       "1               0           0                 0               0  \n",
       "2               0           0                 1               0  \n",
       "3               0           0                 1               0  \n",
       "4               0           0                 0               0  "
      ]
     },
     "execution_count": 49,
     "metadata": {},
     "output_type": "execute_result"
    }
   ],
   "source": [
    "data.head()"
   ]
  },
  {
   "cell_type": "code",
   "execution_count": 50,
   "metadata": {
    "ExecuteTime": {
     "end_time": "2020-02-21T17:30:37.851565Z",
     "start_time": "2020-02-21T17:30:37.772069Z"
    }
   },
   "outputs": [],
   "source": [
    "#Building ARM model - APRIORI\n",
    "\n",
    "frq_items = apriori(data, min_support = 0.05, use_colnames = True)"
   ]
  },
  {
   "cell_type": "code",
   "execution_count": 51,
   "metadata": {
    "ExecuteTime": {
     "end_time": "2020-02-21T17:30:37.899729Z",
     "start_time": "2020-02-21T17:30:37.851565Z"
    }
   },
   "outputs": [],
   "source": [
    "#Building ARM Model - FPGROWTH\n",
    "\n",
    "#frq_items = fpgrowth(data, min_support = 0.05, use_colnames = True)"
   ]
  },
  {
   "cell_type": "code",
   "execution_count": 55,
   "metadata": {
    "ExecuteTime": {
     "end_time": "2020-02-21T17:30:37.966921Z",
     "start_time": "2020-02-21T17:30:37.899729Z"
    }
   },
   "outputs": [],
   "source": [
    "frq_items.sort_values('support', ascending=False).to_csv('frq.csv')"
   ]
  },
  {
   "cell_type": "code",
   "execution_count": null,
   "metadata": {
    "ExecuteTime": {
     "end_time": "2020-02-21T17:30:38.038694Z",
     "start_time": "2020-02-21T17:30:37.966921Z"
    }
   },
   "outputs": [],
   "source": [
    "#collecting inferred rules\n",
    "rules = association_rules(frq_items, metric =\"lift\", min_threshold = 1) \n",
    "rules = rules.sort_values(['confidence', 'lift'], ascending =[False, False]) "
   ]
  },
  {
   "cell_type": "code",
   "execution_count": null,
   "metadata": {
    "ExecuteTime": {
     "end_time": "2020-02-21T17:30:38.116802Z",
     "start_time": "2020-02-21T17:30:38.038694Z"
    }
   },
   "outputs": [],
   "source": [
    "rules"
   ]
  },
  {
   "cell_type": "code",
   "execution_count": null,
   "metadata": {
    "ExecuteTime": {
     "end_time": "2020-02-21T17:30:38.244171Z",
     "start_time": "2020-02-21T17:30:38.119432Z"
    }
   },
   "outputs": [],
   "source": [
    "rules.to_csv('Z:\\\\Waze\\\\SPR20-598\\\\Datasets\\\\ARM\\\\arm_rules.csv')"
   ]
  },
  {
   "cell_type": "code",
   "execution_count": null,
   "metadata": {},
   "outputs": [],
   "source": []
  },
  {
   "cell_type": "code",
   "execution_count": null,
   "metadata": {},
   "outputs": [],
   "source": []
  }
 ],
 "metadata": {
  "kernelspec": {
   "display_name": "Python 3",
   "language": "python",
   "name": "python3"
  },
  "language_info": {
   "codemirror_mode": {
    "name": "ipython",
    "version": 3
   },
   "file_extension": ".py",
   "mimetype": "text/x-python",
   "name": "python",
   "nbconvert_exporter": "python",
   "pygments_lexer": "ipython3",
   "version": "3.7.9"
  },
  "toc": {
   "base_numbering": 1,
   "nav_menu": {},
   "number_sections": true,
   "sideBar": true,
   "skip_h1_title": false,
   "title_cell": "Table of Contents",
   "title_sidebar": "Contents",
   "toc_cell": false,
   "toc_position": {},
   "toc_section_display": true,
   "toc_window_display": false
  },
  "varInspector": {
   "cols": {
    "lenName": 16,
    "lenType": 16,
    "lenVar": 40
   },
   "kernels_config": {
    "python": {
     "delete_cmd_postfix": "",
     "delete_cmd_prefix": "del ",
     "library": "var_list.py",
     "varRefreshCmd": "print(var_dic_list())"
    },
    "r": {
     "delete_cmd_postfix": ") ",
     "delete_cmd_prefix": "rm(",
     "library": "var_list.r",
     "varRefreshCmd": "cat(var_dic_list()) "
    }
   },
   "types_to_exclude": [
    "module",
    "function",
    "builtin_function_or_method",
    "instance",
    "_Feature"
   ],
   "window_display": false
  }
 },
 "nbformat": 4,
 "nbformat_minor": 4
}
